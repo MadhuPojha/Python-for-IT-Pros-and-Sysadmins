{
 "cells": [
  {
   "cell_type": "code",
   "execution_count": 5,
   "metadata": {},
   "outputs": [
    {
     "name": "stdout",
     "output_type": "stream",
     "text": [
      "(1, 'Web Server', '192.168.1.100', 'Ubuntu', 'Maintenance')\n",
      "(2, 'Database Server', '192.168.1.101', 'CentOS', 'Active')\n",
      "(3, 'Web Server', '192.168.1.100', 'Ubuntu', 'Active')\n",
      "(4, 'Database Server', '192.168.1.101', 'CentOS', 'Active')\n",
      "(5, 'Web Server', '192.168.1.100', 'Ubuntu', 'Active')\n",
      "(6, 'Database Server', '192.168.1.101', 'CentOS', 'Active')\n"
     ]
    },
    {
     "ename": "ProgrammingError",
     "evalue": "parameters are of unsupported type",
     "output_type": "error",
     "traceback": [
      "\u001b[1;31m---------------------------------------------------------------------------\u001b[0m",
      "\u001b[1;31mProgrammingError\u001b[0m                          Traceback (most recent call last)",
      "Cell \u001b[1;32mIn[5], line 70\u001b[0m\n\u001b[0;32m     67\u001b[0m     \u001b[38;5;28mprint\u001b[39m(srv)\n\u001b[0;32m     69\u001b[0m update_server(\u001b[38;5;241m1\u001b[39m, \u001b[38;5;124m\"\u001b[39m\u001b[38;5;124mMaintenance\u001b[39m\u001b[38;5;124m\"\u001b[39m)\n\u001b[1;32m---> 70\u001b[0m \u001b[43mdelete_server\u001b[49m\u001b[43m(\u001b[49m\u001b[38;5;241;43m2\u001b[39;49m\u001b[43m)\u001b[49m\n\u001b[0;32m     72\u001b[0m servers \u001b[38;5;241m=\u001b[39m get_servers()\n\u001b[0;32m     73\u001b[0m \u001b[38;5;28;01mfor\u001b[39;00m srv \u001b[38;5;129;01min\u001b[39;00m servers:\n",
      "Cell \u001b[1;32mIn[5], line 56\u001b[0m, in \u001b[0;36mdelete_server\u001b[1;34m(server_id)\u001b[0m\n\u001b[0;32m     53\u001b[0m cursor \u001b[38;5;241m=\u001b[39m conn\u001b[38;5;241m.\u001b[39mcursor()\n\u001b[0;32m     55\u001b[0m delete_query \u001b[38;5;241m=\u001b[39m \u001b[38;5;124m\"\u001b[39m\u001b[38;5;124mDELETE FROM servers WHERE id = ? \u001b[39m\u001b[38;5;124m\"\u001b[39m\n\u001b[1;32m---> 56\u001b[0m \u001b[43mcursor\u001b[49m\u001b[38;5;241;43m.\u001b[39;49m\u001b[43mexecute\u001b[49m\u001b[43m(\u001b[49m\u001b[43mdelete_query\u001b[49m\u001b[43m,\u001b[49m\u001b[43m \u001b[49m\u001b[43m(\u001b[49m\u001b[43mserver_id\u001b[49m\u001b[43m)\u001b[49m\u001b[43m)\u001b[49m\n\u001b[0;32m     58\u001b[0m conn\u001b[38;5;241m.\u001b[39mcommit()\n\u001b[0;32m     59\u001b[0m conn\u001b[38;5;241m.\u001b[39mclose()\n",
      "\u001b[1;31mProgrammingError\u001b[0m: parameters are of unsupported type"
     ]
    }
   ],
   "source": [
    "import sqlite3\n",
    "\n",
    "conn = sqlite3.connect(\"server_inventory.db\")\n",
    "cursor = conn.cursor()\n",
    "\n",
    "create_table_query = '''\n",
    "    CREATE TABLE IF NOT EXISTS servers (\n",
    "    id INTEGER PRIMARY KEY,\n",
    "    name TEXT NOT NULL,\n",
    "    ip_address TEXT NOT NULL,\n",
    "    os TEXT NOT NULL,\n",
    "    status TEXT NOT NULL\n",
    "    )\n",
    "'''\n",
    "\n",
    "cursor.execute(create_table_query)\n",
    "conn.commit()\n",
    "conn.close()\n",
    "\n",
    "def insert_server(name, ip_address, os, status):\n",
    "    conn = sqlite3.connect(\"server_inventory.db\")\n",
    "    cursor = conn.cursor()\n",
    "\n",
    "    insert_query = \"INSERT INTO servers (name, ip_address, os, status) VALUES (?, ?, ?, ?)\"\n",
    "    cursor.execute(insert_query, (name, ip_address, os, status))\n",
    "\n",
    "    conn.commit()\n",
    "    conn.close()\n",
    "\n",
    "def get_servers():\n",
    "    conn = sqlite3.connect(\"server_inventory.db\")\n",
    "    cursor = conn.cursor()\n",
    "\n",
    "    select_query = \"SELECT * FROM servers\"\n",
    "    cursor.execute(select_query)\n",
    "    servers = cursor.fetchall()\n",
    "\n",
    "    conn.close()\n",
    "    return servers\n",
    "\n",
    "def update_server(server_id, new_status):\n",
    "    conn = sqlite3.connect(\"server_inventory.db\")\n",
    "    cursor = conn.cursor()\n",
    "\n",
    "    update_query = \"UPDATE servers SET status = ? WHERE id = ? \"\n",
    "    cursor.execute(update_query, (new_status, server_id))\n",
    "\n",
    "    conn.commit()\n",
    "    conn.close()\n",
    "\n",
    "def delete_server(server_id):\n",
    "    conn = sqlite3.connect(\"server_inventory.db\")\n",
    "    cursor = conn.cursor()\n",
    "\n",
    "    delete_query = \"DELETE FROM servers WHERE id = ? \"\n",
    "    cursor.execute(delete_query, (server_id))\n",
    "\n",
    "    conn.commit()\n",
    "    conn.close()\n",
    "\n",
    "insert_server(\"Web Server\", \"192.168.1.100\", \"Ubuntu\", \"Active\")\n",
    "\n",
    "insert_server(\"Database Server\", \"192.168.1.101\", \"CentOS\", \"Active\")\n",
    "\n",
    "servers = get_servers()\n",
    "for srv in servers:\n",
    "    print(srv)\n",
    "\n",
    "update_server(1, \"Maintenance\")\n",
    "delete_server(2)\n",
    "\n",
    "servers = get_servers()\n",
    "for srv in servers:\n",
    "    print(srv)\n"
   ]
  }
 ],
 "metadata": {
  "kernelspec": {
   "display_name": "Python 3",
   "language": "python",
   "name": "python3"
  },
  "language_info": {
   "codemirror_mode": {
    "name": "ipython",
    "version": 3
   },
   "file_extension": ".py",
   "mimetype": "text/x-python",
   "name": "python",
   "nbconvert_exporter": "python",
   "pygments_lexer": "ipython3",
   "version": "3.11.4"
  }
 },
 "nbformat": 4,
 "nbformat_minor": 2
}
