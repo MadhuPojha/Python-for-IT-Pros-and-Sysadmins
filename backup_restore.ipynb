{
 "cells": [
  {
   "cell_type": "code",
   "execution_count": null,
   "metadata": {},
   "outputs": [],
   "source": [
    "import os\n",
    "import shutil\n",
    "import datetime\n",
    "\n",
    "source_dir = \"\"\n",
    "bkup_dir = \"\"\n",
    "\n",
    "def bkup_dir_contents(source, backup):\n",
    "    tiemstamp = datetime.datetime.now().strftime(\"%Y%m%d%H%M%S\")\n",
    "    backup_path = os.path.join(backup, f\"backup_{tiemstamp}\")\n",
    "    try:\n",
    "        shutil.copytree(source, backup_path)\n",
    "        print(f\"Backup completed: {backup_path}\")\n",
    "    except Exception as e:\n",
    "        print(f\"Backup failed: {e}\")\n",
    "\n",
    "def recover_backup(backup_path, destination):\n",
    "    try:\n",
    "        shutil.rmtree(destination)\n",
    "        shutil.copytree(backup_path, destination)\n",
    "        print(f\"Revovery completed: {de}\")\n",
    "\n",
    "    except Exception as e:\n",
    "        print(f\"Recovery failed: {e}\")\n",
    "\n",
    "if __name__ == \"__main__\":\n",
    "    print(\"Choose an option: \")\n",
    "    print(\"1. Backup\")\n",
    "    print(\"2. Recovery\")\n",
    "\n",
    "    choice = input(\"Enter your choice (1 or 2): \")\n",
    "    if choice == \"1\":\n",
    "        bkup_dir_contents(source_dir, bkup_dir)\n",
    "    elif choice == \"2\":\n",
    "        backup_list = os.listdir(bkup_dir)\n",
    "        print(\"Available backups: \")\n",
    "\n",
    "        for idx, backup in enumerate(backup_list, start=1):\n",
    "            print(f\"{idx}. {backup}\")\n",
    "        backup_index = int(input(\"enter the backup index to recover: \")) - 1\n",
    "\n",
    "        if 0 <= backup_index < len(backup_list):\n",
    "            selected_bkup = os.path.join(bkup_dir, backup_list[backup_index])\n",
    "            recover_backup(selected_bkup, source_dir)\n",
    "\n",
    "        else:\n",
    "            print(\"invalid backup index.\")\n",
    "\n",
    "    else:\n",
    "        print(\"Invalid choice, it's either 1 or 2\")\n",
    "    \n",
    "\n"
   ]
  }
 ],
 "metadata": {
  "kernelspec": {
   "display_name": "Python 3",
   "language": "python",
   "name": "python3"
  },
  "language_info": {
   "name": "python",
   "version": "3.11.4"
  }
 },
 "nbformat": 4,
 "nbformat_minor": 2
}
