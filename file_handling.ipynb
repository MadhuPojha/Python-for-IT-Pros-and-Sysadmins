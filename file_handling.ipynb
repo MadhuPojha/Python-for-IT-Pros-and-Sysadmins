{
 "cells": [
  {
   "cell_type": "markdown",
   "metadata": {},
   "source": [
    "Read file"
   ]
  },
  {
   "cell_type": "code",
   "execution_count": 4,
   "metadata": {},
   "outputs": [
    {
     "name": "stdout",
     "output_type": "stream",
     "text": [
      "File content: \n",
      "Stockholm, the capital of Sweden, \n",
      "encompasses 14 islands and more than 50 bridges on an extensive Baltic Sea archipelago\n"
     ]
    }
   ],
   "source": [
    "file_path = \"example.txt\"\n",
    "try:\n",
    "    with open(file_path, \"r\") as file:\n",
    "        content = file.read()\n",
    "        print(\"File content: \")\n",
    "        print(content)\n",
    "except:\n",
    "    print(f\"File '{file_path}' not found.\")"
   ]
  },
  {
   "cell_type": "markdown",
   "metadata": {},
   "source": [
    "Write in file:"
   ]
  },
  {
   "cell_type": "code",
   "execution_count": 6,
   "metadata": {},
   "outputs": [
    {
     "name": "stdout",
     "output_type": "stream",
     "text": [
      "Data written to 'output1.txt' \n"
     ]
    }
   ],
   "source": [
    "output_path = \"output.txt\"\n",
    "data_to_write = \"This is the line i want to write\"\n",
    "try:\n",
    "    with open(file_path, \"w\") as file:\n",
    "        file.write(data_to_write)\n",
    "    print(f\"Data written to '{output_path}' \")\n",
    "except Exception as e:\n",
    "    print(f\"An exception accurred: \", e)"
   ]
  },
  {
   "cell_type": "markdown",
   "metadata": {},
   "source": [
    "Append in file"
   ]
  },
  {
   "cell_type": "code",
   "execution_count": 8,
   "metadata": {},
   "outputs": [
    {
     "name": "stdout",
     "output_type": "stream",
     "text": [
      "Data written to 'output.txt' \n"
     ]
    }
   ],
   "source": [
    "append_path = \"output.txt\"\n",
    "data_to_append = \"\\nThis is an appended line.\"\n",
    "try:\n",
    "    with open(file_path, \"w\") as file:\n",
    "        file.write(data_to_append)\n",
    "    print(f\"Data written to '{append_path}' \")\n",
    "except Exception as e:\n",
    "    print(f\"An exception accurred: \", e)"
   ]
  },
  {
   "cell_type": "markdown",
   "metadata": {},
   "source": [
    "Read lines"
   ]
  },
  {
   "cell_type": "code",
   "execution_count": 9,
   "metadata": {},
   "outputs": [
    {
     "name": "stdout",
     "output_type": "stream",
     "text": [
      "Lines from the file: \n",
      "Line1'\n",
      "Line2'\n",
      "Line3'\n",
      "This is an appended line.\n"
     ]
    }
   ],
   "source": [
    "line_file_path = \"example.txt\"\n",
    "data_to_append = \"\\nThis is an appended line.\"\n",
    "try:\n",
    "    with open(line_file_path, \"r\") as file:\n",
    "        lines = file.readlines()\n",
    "        print(\"Lines from the file: \")\n",
    "        for line in lines:\n",
    "            print(line.strip())\n",
    "except FileNotFoundError:\n",
    "    print(f\"File '{line_file_path}' not found\")"
   ]
  }
 ],
 "metadata": {
  "kernelspec": {
   "display_name": "Python 3",
   "language": "python",
   "name": "python3"
  },
  "language_info": {
   "codemirror_mode": {
    "name": "ipython",
    "version": 3
   },
   "file_extension": ".py",
   "mimetype": "text/x-python",
   "name": "python",
   "nbconvert_exporter": "python",
   "pygments_lexer": "ipython3",
   "version": "3.11.4"
  }
 },
 "nbformat": 4,
 "nbformat_minor": 2
}
