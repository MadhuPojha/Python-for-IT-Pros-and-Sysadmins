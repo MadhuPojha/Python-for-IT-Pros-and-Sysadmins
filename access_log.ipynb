{
 "cells": [
  {
   "cell_type": "code",
   "execution_count": 1,
   "metadata": {},
   "outputs": [],
   "source": [
    "import re\n",
    "from collections import Counter\n",
    "\n",
    "log_file_path = \"access.log\"\n",
    "\n",
    "ip_pattern = r\"\\d+\\. \\d+\\. \\d+\\. \\d+\"\n",
    "\n",
    "def analyze_log(log_file_path):\n",
    "    with open(log_file_path) as file:\n",
    "        log_lines = file.readlines()\n",
    "\n",
    "        ip_adresses = re.findall(ip_pattern, \"\".join(log_lines))\n",
    "        unique_ips = set(ip_adresses)\n",
    "        num_requests = len(log_lines)\n",
    "\n",
    "        url_counter = Counter()\n",
    "\n",
    "        for line in log_lines:\n",
    "            match = re.search(r'\"GET (.*?) HTTP', line)\n",
    "            if match:\n",
    "                url = match.group(1)\n",
    "                url_counter[url] += 1\n",
    "            \n",
    "        return num_requests, unique_ips, url_counter.most_common(3)\n",
    "    \n",
    "    if __name__ == \"__main__\":\n",
    "        num_requests, unique_ips, populars_urls = analyze_log(log_file_path)\n",
    "\n",
    "        print(\"Log Analysus Results: \")\n",
    "\n",
    "        print(f\"Numberof Req: {num_requests}\")\n",
    "        print(f\"Number of unique IP Addresses: {len(unique_ips)} \")\n",
    "        \n",
    "        print(\"Popular URLs: \")\n",
    "\n",
    "        for url, count in populars_urls:\n",
    "            print(f\"{url}: {count} requests\")\n"
   ]
  }
 ],
 "metadata": {
  "kernelspec": {
   "display_name": "Python 3",
   "language": "python",
   "name": "python3"
  },
  "language_info": {
   "codemirror_mode": {
    "name": "ipython",
    "version": 3
   },
   "file_extension": ".py",
   "mimetype": "text/x-python",
   "name": "python",
   "nbconvert_exporter": "python",
   "pygments_lexer": "ipython3",
   "version": "3.11.4"
  }
 },
 "nbformat": 4,
 "nbformat_minor": 2
}
