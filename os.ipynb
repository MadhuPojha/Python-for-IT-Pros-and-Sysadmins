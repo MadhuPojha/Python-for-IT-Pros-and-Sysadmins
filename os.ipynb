{
 "cells": [
  {
   "cell_type": "code",
   "execution_count": 1,
   "metadata": {},
   "outputs": [],
   "source": [
    "import os\n",
    "import subprocess"
   ]
  },
  {
   "cell_type": "code",
   "execution_count": 2,
   "metadata": {},
   "outputs": [
    {
     "name": "stdout",
     "output_type": "stream",
     "text": [
      "Current dir is:  c:\\Users\\mpriy\\Documents\\MadhuPojha\\Lexicon\\PYTHON\\Plural-site\n",
      "Directory contents:  ['acronyms_Dict.py', 'acronyms_ReadingFiles.py', 'acronyms_writingFiles.py', 'class_method.py', 'companySalary_class.py', 'company_class.py', 'contacts.py', 'dice_game.py', 'django-fundamentals-update', 'employeeSalary_class.py', 'employee_class.py', 'example.txt', 'expenses_List.py', 'file_handling.ipynb', 'game.py', 'loan_Loop.py', 'menu_dictList.py', 'movie_Dict.py', 'os.ipynb', 'req_res_API.py', 'script.ipynb', 'script.py', 'script_exception.py', 'script_queryParams.py', 'software_Acronyms.txt', 'test.ipynb', 'tictactoe', 'weather_API.py', '__pycache__']\n"
     ]
    }
   ],
   "source": [
    "current_dir = os.getcwd()\n",
    "print(\"Current dir is: \", current_dir)\n",
    "\n",
    "dir_contents = os.listdir(current_dir)\n",
    "print(\"Directory contents: \", dir_contents)"
   ]
  },
  {
   "cell_type": "markdown",
   "metadata": {},
   "source": [
    "creating/renaming folder in current dir"
   ]
  },
  {
   "cell_type": "code",
   "execution_count": 3,
   "metadata": {},
   "outputs": [
    {
     "name": "stdout",
     "output_type": "stream",
     "text": [
      "Created folder: 'new_folder'\n"
     ]
    }
   ],
   "source": [
    "new_dir = \"new_folder\"\n",
    "os.makedirs(new_dir)\n",
    "print(f\"Created folder: '{new_dir}'\")"
   ]
  },
  {
   "cell_type": "code",
   "execution_count": 4,
   "metadata": {},
   "outputs": [
    {
     "name": "stdout",
     "output_type": "stream",
     "text": [
      "Renamed folder to: renamed_folder\n"
     ]
    }
   ],
   "source": [
    "new_name = \"renamed_folder\"\n",
    "os.rename(new_dir, new_name)\n",
    "print(f\"Renamed folder to: {new_name}\")"
   ]
  },
  {
   "cell_type": "markdown",
   "metadata": {},
   "source": [
    "Display current dir content"
   ]
  },
  {
   "cell_type": "code",
   "execution_count": 6,
   "metadata": {},
   "outputs": [
    {
     "name": "stdout",
     "output_type": "stream",
     "text": [
      "Command output:   Volume in drive C is Windows\n",
      " Volume Serial Number is EA30-DAC1\n",
      "\n",
      " Directory of c:\\Users\\mpriy\\Documents\\MadhuPojha\\Lexicon\\PYTHON\\Plural-site\n",
      "\n",
      "29/08/2024  11:25    <DIR>          .\n",
      "26/08/2024  13:48    <DIR>          ..\n",
      "21/08/2024  12:05               318 acronyms_Dict.py\n",
      "21/08/2024  22:18               329 acronyms_ReadingFiles.py\n",
      "21/08/2024  22:32             1,009 acronyms_writingFiles.py\n",
      "21/08/2024  14:01               258 class_method.py\n",
      "21/08/2024  21:13             1,125 companySalary_class.py\n",
      "21/08/2024  14:20             1,036 company_class.py\n",
      "21/08/2024  13:27               387 contacts.py\n",
      "21/08/2024  13:57               454 dice_game.py\n",
      "23/08/2024  11:22    <DIR>          django-fundamentals-update\n",
      "21/08/2024  21:11             1,082 employeeSalary_class.py\n",
      "21/08/2024  14:04               216 employee_class.py\n",
      "29/08/2024  10:19                49 example.txt\n",
      "21/08/2024  12:07               464 expenses_List.py\n",
      "29/08/2024  10:21             3,422 file_handling.ipynb\n",
      "22/08/2024  10:20             1,493 game.py\n",
      "21/08/2024  12:06               886 loan_Loop.py\n",
      "21/08/2024  13:23               500 menu_dictList.py\n",
      "21/08/2024  13:12               440 movie_Dict.py\n",
      "29/08/2024  11:28             4,058 os.ipynb\n",
      "29/08/2024  11:24    <DIR>          renamed_folder\n",
      "21/08/2024  13:33               213 req_res_API.py\n",
      "26/08/2024  23:42             6,145 script.ipynb\n",
      "26/08/2024  22:54               287 script.py\n",
      "26/08/2024  23:00               258 script_exception.py\n",
      "26/08/2024  23:01               189 script_queryParams.py\n",
      "21/08/2024  22:34               383 software_Acronyms.txt\n",
      "28/08/2024  20:54             1,040 test.ipynb\n",
      "23/08/2024  15:28    <DIR>          tictactoe\n",
      "21/08/2024  13:48               410 weather_API.py\n",
      "21/08/2024  21:13    <DIR>          __pycache__\n",
      "              26 File(s)         26,451 bytes\n",
      "               6 Dir(s)  13,219,143,680 bytes free\n",
      "\n"
     ]
    }
   ],
   "source": [
    "command = \"dir\"\n",
    "res = subprocess.run(command, shell=True, text=True, capture_output=True)\n",
    "print(\"Command output: \", res.stdout)"
   ]
  },
  {
   "cell_type": "markdown",
   "metadata": {},
   "source": [
    "display corrent os"
   ]
  },
  {
   "cell_type": "code",
   "execution_count": 7,
   "metadata": {},
   "outputs": [
    {
     "name": "stdout",
     "output_type": "stream",
     "text": [
      "PATH environment variables:  c:\\Users\\mpriy\\AppData\\Local\\Programs\\Python\\Python311;c:\\Users\\mpriy\\AppData\\Roaming\\Python\\Python311\\Scripts;C:\\Program Files (x86)\\VMware\\VMware Player\\bin\\;C:\\Program Files\\Microsoft SDKs\\Azure\\CLI2\\wbin;C:\\WINDOWS\\system32;C:\\WINDOWS;C:\\WINDOWS\\System32\\Wbem;C:\\WINDOWS\\System32\\WindowsPowerShell\\v1.0\\;C:\\WINDOWS\\System32\\OpenSSH\\;C:\\Program Files\\PuTTY\\;C:\\Program Files\\Amazon\\AWSCLIV2\\;C:\\Program Files\\HP\\HP One Agent;C:\\Program Files\\nodejs\\;C:\\Program Files\\nodejs;C:\\Program Files\\Git\\cmd;C:\\Program Files\\dotnet\\;C:\\Program Files (x86)\\Microsoft SQL Server\\160\\DTS\\Binn\\;C:\\Program Files\\Microsoft\\Azure Functions Core Tools\\;C:\\Users\\mpriy\\AppData\\Local\\Microsoft\\WindowsApps;;C:\\Users\\mpriy\\AppData\\Local\\Programs\\Microsoft VS Code\\bin;C:\\Users\\mpriy\\AppData\\Roaming\\npm;C:\\Users\\mpriy\\AppData\\Local\\Programs\\Azure Dev CLI\\;C:\\Program Files (x86)\\VMware\\VMware Player\\bin\\;C:\\Program Files\\Microsoft SDKs\\Azure\\CLI2\\wbin;C:\\WINDOWS\\system32;C:\\WINDOWS;C:\\WINDOWS\\System32\\Wbem;C:\\WINDOWS\\System32\\WindowsPowerShell\\v1.0\\;C:\\WINDOWS\\System32\\OpenSSH\\;C:\\Program Files\\PuTTY\\;C:\\Program Files\\Amazon\\AWSCLIV2\\;C:\\Program Files\\HP\\HP One Agent;C:\\Program Files\\nodejs\\;C:\\Program Files\\nodejs;C:\\Program Files\\Git\\cmd;C:\\Program Files\\dotnet\\;C:\\Program Files (x86)\\Microsoft SQL Server\\160\\DTS\\Binn\\;C:\\Program Files\\Microsoft\\Azure Functions Core Tools\\;C:\\Users\\mpriy\\AppData\\Local\\Microsoft\\WindowsApps;;C:\\Users\\mpriy\\AppData\\Local\\Programs\\Microsoft VS Code\\bin;C:\\Users\\mpriy\\AppData\\Roaming\\npm;C:\\Users\\mpriy\\AppData\\Local\\Programs\\Azure Dev CLI\\\n"
     ]
    }
   ],
   "source": [
    "print(\"PATH environment variables: \", os.environ.get(\"PATH\"))"
   ]
  }
 ],
 "metadata": {
  "kernelspec": {
   "display_name": "Python 3",
   "language": "python",
   "name": "python3"
  },
  "language_info": {
   "codemirror_mode": {
    "name": "ipython",
    "version": 3
   },
   "file_extension": ".py",
   "mimetype": "text/x-python",
   "name": "python",
   "nbconvert_exporter": "python",
   "pygments_lexer": "ipython3",
   "version": "3.11.4"
  }
 },
 "nbformat": 4,
 "nbformat_minor": 2
}
