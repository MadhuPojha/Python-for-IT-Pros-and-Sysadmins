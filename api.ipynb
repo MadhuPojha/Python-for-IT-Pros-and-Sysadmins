{
 "cells": [
  {
   "cell_type": "code",
   "execution_count": 3,
   "metadata": {},
   "outputs": [
    {
     "name": "stdout",
     "output_type": "stream",
     "text": [
      "Repos for MadhuPojha: \n",
      "Repo: AI-ML\n",
      "Description: None\n",
      "Stars: 0\n",
      "Forks: 0\n",
      "------------------------------\n",
      "Repo: AzureQuickStart\n",
      "Description: Azure quick start app\n",
      "Stars: 0\n",
      "Forks: 0\n",
      "------------------------------\n",
      "Repo: Clothing-Store\n",
      "Description: None\n",
      "Stars: 0\n",
      "Forks: 0\n",
      "------------------------------\n",
      "Repo: HTML-CSS-JS_Lexicon\n",
      "Description: None\n",
      "Stars: 0\n",
      "Forks: 0\n",
      "------------------------------\n",
      "Repo: Iportfolio.io\n",
      "Description: None\n",
      "Stars: 0\n",
      "Forks: 0\n",
      "------------------------------\n",
      "Repo: Python\n",
      "Description: None\n",
      "Stars: 0\n",
      "Forks: 0\n",
      "------------------------------\n",
      "Repo: SQL\n",
      "Description: None\n",
      "Stars: 0\n",
      "Forks: 0\n",
      "------------------------------\n"
     ]
    }
   ],
   "source": [
    "import requests\n",
    "\n",
    "api_url = \"https://api.github.com\"\n",
    "\n",
    "username = input(\"Enter github username: \")\n",
    "\n",
    "headers = {\n",
    "    \"Accept\": \"application/vnd.github.v3+json\",\n",
    "    \"User-Agent\": \"MadhuPojha\"  # Corrected the header key\n",
    "}\n",
    "\n",
    "# Corrected the URL endpoint\n",
    "repos_url = f\"{api_url}/users/{username}/repos\"\n",
    "r = requests.get(repos_url, headers=headers)\n",
    "\n",
    "if r.status_code == 200:\n",
    "    repositories = r.json()\n",
    "    print(f\"Repos for {username}: \")\n",
    "    for repo in repositories:\n",
    "        repo_name = repo[\"name\"]\n",
    "        repo_desc = repo[\"description\"]\n",
    "        repo_stars = repo[\"stargazers_count\"]\n",
    "        repo_forks = repo[\"forks_count\"]\n",
    "        \n",
    "        print(f\"Repo: {repo_name}\")\n",
    "        print(f\"Description: {repo_desc}\")\n",
    "        print(f\"Stars: {repo_stars}\")\n",
    "        print(f\"Forks: {repo_forks}\")\n",
    "        print(\"-\" * 30)\n",
    "else:\n",
    "    print(\"Error fetching repos\")\n"
   ]
  }
 ],
 "metadata": {
  "kernelspec": {
   "display_name": "Python 3",
   "language": "python",
   "name": "python3"
  },
  "language_info": {
   "codemirror_mode": {
    "name": "ipython",
    "version": 3
   },
   "file_extension": ".py",
   "mimetype": "text/x-python",
   "name": "python",
   "nbconvert_exporter": "python",
   "pygments_lexer": "ipython3",
   "version": "3.11.4"
  }
 },
 "nbformat": 4,
 "nbformat_minor": 2
}
